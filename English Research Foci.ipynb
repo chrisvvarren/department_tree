{
 "cells": [
  {
   "cell_type": "code",
   "execution_count": 3,
   "id": "0afdba40",
   "metadata": {},
   "outputs": [
    {
     "data": {
      "text/html": [
       "<div class=\"bk-root\">\n",
       "        <a href=\"https://bokeh.org\" target=\"_blank\" class=\"bk-logo bk-logo-small bk-logo-notebook\"></a>\n",
       "        <span id=\"1002\">Loading BokehJS ...</span>\n",
       "    </div>\n"
      ]
     },
     "metadata": {},
     "output_type": "display_data"
    },
    {
     "data": {
      "application/javascript": [
       "(function(root) {\n",
       "  function now() {\n",
       "    return new Date();\n",
       "  }\n",
       "\n",
       "  const force = true;\n",
       "\n",
       "  if (typeof root._bokeh_onload_callbacks === \"undefined\" || force === true) {\n",
       "    root._bokeh_onload_callbacks = [];\n",
       "    root._bokeh_is_loading = undefined;\n",
       "  }\n",
       "\n",
       "const JS_MIME_TYPE = 'application/javascript';\n",
       "  const HTML_MIME_TYPE = 'text/html';\n",
       "  const EXEC_MIME_TYPE = 'application/vnd.bokehjs_exec.v0+json';\n",
       "  const CLASS_NAME = 'output_bokeh rendered_html';\n",
       "\n",
       "  /**\n",
       "   * Render data to the DOM node\n",
       "   */\n",
       "  function render(props, node) {\n",
       "    const script = document.createElement(\"script\");\n",
       "    node.appendChild(script);\n",
       "  }\n",
       "\n",
       "  /**\n",
       "   * Handle when an output is cleared or removed\n",
       "   */\n",
       "  function handleClearOutput(event, handle) {\n",
       "    const cell = handle.cell;\n",
       "\n",
       "    const id = cell.output_area._bokeh_element_id;\n",
       "    const server_id = cell.output_area._bokeh_server_id;\n",
       "    // Clean up Bokeh references\n",
       "    if (id != null && id in Bokeh.index) {\n",
       "      Bokeh.index[id].model.document.clear();\n",
       "      delete Bokeh.index[id];\n",
       "    }\n",
       "\n",
       "    if (server_id !== undefined) {\n",
       "      // Clean up Bokeh references\n",
       "      const cmd_clean = \"from bokeh.io.state import curstate; print(curstate().uuid_to_server['\" + server_id + \"'].get_sessions()[0].document.roots[0]._id)\";\n",
       "      cell.notebook.kernel.execute(cmd_clean, {\n",
       "        iopub: {\n",
       "          output: function(msg) {\n",
       "            const id = msg.content.text.trim();\n",
       "            if (id in Bokeh.index) {\n",
       "              Bokeh.index[id].model.document.clear();\n",
       "              delete Bokeh.index[id];\n",
       "            }\n",
       "          }\n",
       "        }\n",
       "      });\n",
       "      // Destroy server and session\n",
       "      const cmd_destroy = \"import bokeh.io.notebook as ion; ion.destroy_server('\" + server_id + \"')\";\n",
       "      cell.notebook.kernel.execute(cmd_destroy);\n",
       "    }\n",
       "  }\n",
       "\n",
       "  /**\n",
       "   * Handle when a new output is added\n",
       "   */\n",
       "  function handleAddOutput(event, handle) {\n",
       "    const output_area = handle.output_area;\n",
       "    const output = handle.output;\n",
       "\n",
       "    // limit handleAddOutput to display_data with EXEC_MIME_TYPE content only\n",
       "    if ((output.output_type != \"display_data\") || (!Object.prototype.hasOwnProperty.call(output.data, EXEC_MIME_TYPE))) {\n",
       "      return\n",
       "    }\n",
       "\n",
       "    const toinsert = output_area.element.find(\".\" + CLASS_NAME.split(' ')[0]);\n",
       "\n",
       "    if (output.metadata[EXEC_MIME_TYPE][\"id\"] !== undefined) {\n",
       "      toinsert[toinsert.length - 1].firstChild.textContent = output.data[JS_MIME_TYPE];\n",
       "      // store reference to embed id on output_area\n",
       "      output_area._bokeh_element_id = output.metadata[EXEC_MIME_TYPE][\"id\"];\n",
       "    }\n",
       "    if (output.metadata[EXEC_MIME_TYPE][\"server_id\"] !== undefined) {\n",
       "      const bk_div = document.createElement(\"div\");\n",
       "      bk_div.innerHTML = output.data[HTML_MIME_TYPE];\n",
       "      const script_attrs = bk_div.children[0].attributes;\n",
       "      for (let i = 0; i < script_attrs.length; i++) {\n",
       "        toinsert[toinsert.length - 1].firstChild.setAttribute(script_attrs[i].name, script_attrs[i].value);\n",
       "        toinsert[toinsert.length - 1].firstChild.textContent = bk_div.children[0].textContent\n",
       "      }\n",
       "      // store reference to server id on output_area\n",
       "      output_area._bokeh_server_id = output.metadata[EXEC_MIME_TYPE][\"server_id\"];\n",
       "    }\n",
       "  }\n",
       "\n",
       "  function register_renderer(events, OutputArea) {\n",
       "\n",
       "    function append_mime(data, metadata, element) {\n",
       "      // create a DOM node to render to\n",
       "      const toinsert = this.create_output_subarea(\n",
       "        metadata,\n",
       "        CLASS_NAME,\n",
       "        EXEC_MIME_TYPE\n",
       "      );\n",
       "      this.keyboard_manager.register_events(toinsert);\n",
       "      // Render to node\n",
       "      const props = {data: data, metadata: metadata[EXEC_MIME_TYPE]};\n",
       "      render(props, toinsert[toinsert.length - 1]);\n",
       "      element.append(toinsert);\n",
       "      return toinsert\n",
       "    }\n",
       "\n",
       "    /* Handle when an output is cleared or removed */\n",
       "    events.on('clear_output.CodeCell', handleClearOutput);\n",
       "    events.on('delete.Cell', handleClearOutput);\n",
       "\n",
       "    /* Handle when a new output is added */\n",
       "    events.on('output_added.OutputArea', handleAddOutput);\n",
       "\n",
       "    /**\n",
       "     * Register the mime type and append_mime function with output_area\n",
       "     */\n",
       "    OutputArea.prototype.register_mime_type(EXEC_MIME_TYPE, append_mime, {\n",
       "      /* Is output safe? */\n",
       "      safe: true,\n",
       "      /* Index of renderer in `output_area.display_order` */\n",
       "      index: 0\n",
       "    });\n",
       "  }\n",
       "\n",
       "  // register the mime type if in Jupyter Notebook environment and previously unregistered\n",
       "  if (root.Jupyter !== undefined) {\n",
       "    const events = require('base/js/events');\n",
       "    const OutputArea = require('notebook/js/outputarea').OutputArea;\n",
       "\n",
       "    if (OutputArea.prototype.mime_types().indexOf(EXEC_MIME_TYPE) == -1) {\n",
       "      register_renderer(events, OutputArea);\n",
       "    }\n",
       "  }\n",
       "  if (typeof (root._bokeh_timeout) === \"undefined\" || force === true) {\n",
       "    root._bokeh_timeout = Date.now() + 5000;\n",
       "    root._bokeh_failed_load = false;\n",
       "  }\n",
       "\n",
       "  const NB_LOAD_WARNING = {'data': {'text/html':\n",
       "     \"<div style='background-color: #fdd'>\\n\"+\n",
       "     \"<p>\\n\"+\n",
       "     \"BokehJS does not appear to have successfully loaded. If loading BokehJS from CDN, this \\n\"+\n",
       "     \"may be due to a slow or bad network connection. Possible fixes:\\n\"+\n",
       "     \"</p>\\n\"+\n",
       "     \"<ul>\\n\"+\n",
       "     \"<li>re-rerun `output_notebook()` to attempt to load from CDN again, or</li>\\n\"+\n",
       "     \"<li>use INLINE resources instead, as so:</li>\\n\"+\n",
       "     \"</ul>\\n\"+\n",
       "     \"<code>\\n\"+\n",
       "     \"from bokeh.resources import INLINE\\n\"+\n",
       "     \"output_notebook(resources=INLINE)\\n\"+\n",
       "     \"</code>\\n\"+\n",
       "     \"</div>\"}};\n",
       "\n",
       "  function display_loaded() {\n",
       "    const el = document.getElementById(\"1002\");\n",
       "    if (el != null) {\n",
       "      el.textContent = \"BokehJS is loading...\";\n",
       "    }\n",
       "    if (root.Bokeh !== undefined) {\n",
       "      if (el != null) {\n",
       "        el.textContent = \"BokehJS \" + root.Bokeh.version + \" successfully loaded.\";\n",
       "      }\n",
       "    } else if (Date.now() < root._bokeh_timeout) {\n",
       "      setTimeout(display_loaded, 100)\n",
       "    }\n",
       "  }\n",
       "\n",
       "  function run_callbacks() {\n",
       "    try {\n",
       "      root._bokeh_onload_callbacks.forEach(function(callback) {\n",
       "        if (callback != null)\n",
       "          callback();\n",
       "      });\n",
       "    } finally {\n",
       "      delete root._bokeh_onload_callbacks\n",
       "    }\n",
       "    console.debug(\"Bokeh: all callbacks have finished\");\n",
       "  }\n",
       "\n",
       "  function load_libs(css_urls, js_urls, callback) {\n",
       "    if (css_urls == null) css_urls = [];\n",
       "    if (js_urls == null) js_urls = [];\n",
       "\n",
       "    root._bokeh_onload_callbacks.push(callback);\n",
       "    if (root._bokeh_is_loading > 0) {\n",
       "      console.debug(\"Bokeh: BokehJS is being loaded, scheduling callback at\", now());\n",
       "      return null;\n",
       "    }\n",
       "    if (js_urls == null || js_urls.length === 0) {\n",
       "      run_callbacks();\n",
       "      return null;\n",
       "    }\n",
       "    console.debug(\"Bokeh: BokehJS not loaded, scheduling load and callback at\", now());\n",
       "    root._bokeh_is_loading = css_urls.length + js_urls.length;\n",
       "\n",
       "    function on_load() {\n",
       "      root._bokeh_is_loading--;\n",
       "      if (root._bokeh_is_loading === 0) {\n",
       "        console.debug(\"Bokeh: all BokehJS libraries/stylesheets loaded\");\n",
       "        run_callbacks()\n",
       "      }\n",
       "    }\n",
       "\n",
       "    function on_error(url) {\n",
       "      console.error(\"failed to load \" + url);\n",
       "    }\n",
       "\n",
       "    for (let i = 0; i < css_urls.length; i++) {\n",
       "      const url = css_urls[i];\n",
       "      const element = document.createElement(\"link\");\n",
       "      element.onload = on_load;\n",
       "      element.onerror = on_error.bind(null, url);\n",
       "      element.rel = \"stylesheet\";\n",
       "      element.type = \"text/css\";\n",
       "      element.href = url;\n",
       "      console.debug(\"Bokeh: injecting link tag for BokehJS stylesheet: \", url);\n",
       "      document.body.appendChild(element);\n",
       "    }\n",
       "\n",
       "    for (let i = 0; i < js_urls.length; i++) {\n",
       "      const url = js_urls[i];\n",
       "      const element = document.createElement('script');\n",
       "      element.onload = on_load;\n",
       "      element.onerror = on_error.bind(null, url);\n",
       "      element.async = false;\n",
       "      element.src = url;\n",
       "      console.debug(\"Bokeh: injecting script tag for BokehJS library: \", url);\n",
       "      document.head.appendChild(element);\n",
       "    }\n",
       "  };\n",
       "\n",
       "  function inject_raw_css(css) {\n",
       "    const element = document.createElement(\"style\");\n",
       "    element.appendChild(document.createTextNode(css));\n",
       "    document.body.appendChild(element);\n",
       "  }\n",
       "\n",
       "  const js_urls = [\"https://cdn.bokeh.org/bokeh/release/bokeh-2.4.3.min.js\", \"https://cdn.bokeh.org/bokeh/release/bokeh-gl-2.4.3.min.js\", \"https://cdn.bokeh.org/bokeh/release/bokeh-widgets-2.4.3.min.js\", \"https://cdn.bokeh.org/bokeh/release/bokeh-tables-2.4.3.min.js\", \"https://cdn.bokeh.org/bokeh/release/bokeh-mathjax-2.4.3.min.js\"];\n",
       "  const css_urls = [];\n",
       "\n",
       "  const inline_js = [    function(Bokeh) {\n",
       "      Bokeh.set_log_level(\"info\");\n",
       "    },\n",
       "function(Bokeh) {\n",
       "    }\n",
       "  ];\n",
       "\n",
       "  function run_inline_js() {\n",
       "    if (root.Bokeh !== undefined || force === true) {\n",
       "          for (let i = 0; i < inline_js.length; i++) {\n",
       "      inline_js[i].call(root, root.Bokeh);\n",
       "    }\n",
       "if (force === true) {\n",
       "        display_loaded();\n",
       "      }} else if (Date.now() < root._bokeh_timeout) {\n",
       "      setTimeout(run_inline_js, 100);\n",
       "    } else if (!root._bokeh_failed_load) {\n",
       "      console.log(\"Bokeh: BokehJS failed to load within specified timeout.\");\n",
       "      root._bokeh_failed_load = true;\n",
       "    } else if (force !== true) {\n",
       "      const cell = $(document.getElementById(\"1002\")).parents('.cell').data().cell;\n",
       "      cell.output_area.append_execute_result(NB_LOAD_WARNING)\n",
       "    }\n",
       "  }\n",
       "\n",
       "  if (root._bokeh_is_loading === 0) {\n",
       "    console.debug(\"Bokeh: BokehJS loaded, going straight to plotting\");\n",
       "    run_inline_js();\n",
       "  } else {\n",
       "    load_libs(css_urls, js_urls, function() {\n",
       "      console.debug(\"Bokeh: BokehJS plotting callback run at\", now());\n",
       "      run_inline_js();\n",
       "    });\n",
       "  }\n",
       "}(window));"
      ],
      "application/vnd.bokehjs_load.v0+json": "(function(root) {\n  function now() {\n    return new Date();\n  }\n\n  const force = true;\n\n  if (typeof root._bokeh_onload_callbacks === \"undefined\" || force === true) {\n    root._bokeh_onload_callbacks = [];\n    root._bokeh_is_loading = undefined;\n  }\n\n\n  if (typeof (root._bokeh_timeout) === \"undefined\" || force === true) {\n    root._bokeh_timeout = Date.now() + 5000;\n    root._bokeh_failed_load = false;\n  }\n\n  const NB_LOAD_WARNING = {'data': {'text/html':\n     \"<div style='background-color: #fdd'>\\n\"+\n     \"<p>\\n\"+\n     \"BokehJS does not appear to have successfully loaded. If loading BokehJS from CDN, this \\n\"+\n     \"may be due to a slow or bad network connection. Possible fixes:\\n\"+\n     \"</p>\\n\"+\n     \"<ul>\\n\"+\n     \"<li>re-rerun `output_notebook()` to attempt to load from CDN again, or</li>\\n\"+\n     \"<li>use INLINE resources instead, as so:</li>\\n\"+\n     \"</ul>\\n\"+\n     \"<code>\\n\"+\n     \"from bokeh.resources import INLINE\\n\"+\n     \"output_notebook(resources=INLINE)\\n\"+\n     \"</code>\\n\"+\n     \"</div>\"}};\n\n  function display_loaded() {\n    const el = document.getElementById(\"1002\");\n    if (el != null) {\n      el.textContent = \"BokehJS is loading...\";\n    }\n    if (root.Bokeh !== undefined) {\n      if (el != null) {\n        el.textContent = \"BokehJS \" + root.Bokeh.version + \" successfully loaded.\";\n      }\n    } else if (Date.now() < root._bokeh_timeout) {\n      setTimeout(display_loaded, 100)\n    }\n  }\n\n  function run_callbacks() {\n    try {\n      root._bokeh_onload_callbacks.forEach(function(callback) {\n        if (callback != null)\n          callback();\n      });\n    } finally {\n      delete root._bokeh_onload_callbacks\n    }\n    console.debug(\"Bokeh: all callbacks have finished\");\n  }\n\n  function load_libs(css_urls, js_urls, callback) {\n    if (css_urls == null) css_urls = [];\n    if (js_urls == null) js_urls = [];\n\n    root._bokeh_onload_callbacks.push(callback);\n    if (root._bokeh_is_loading > 0) {\n      console.debug(\"Bokeh: BokehJS is being loaded, scheduling callback at\", now());\n      return null;\n    }\n    if (js_urls == null || js_urls.length === 0) {\n      run_callbacks();\n      return null;\n    }\n    console.debug(\"Bokeh: BokehJS not loaded, scheduling load and callback at\", now());\n    root._bokeh_is_loading = css_urls.length + js_urls.length;\n\n    function on_load() {\n      root._bokeh_is_loading--;\n      if (root._bokeh_is_loading === 0) {\n        console.debug(\"Bokeh: all BokehJS libraries/stylesheets loaded\");\n        run_callbacks()\n      }\n    }\n\n    function on_error(url) {\n      console.error(\"failed to load \" + url);\n    }\n\n    for (let i = 0; i < css_urls.length; i++) {\n      const url = css_urls[i];\n      const element = document.createElement(\"link\");\n      element.onload = on_load;\n      element.onerror = on_error.bind(null, url);\n      element.rel = \"stylesheet\";\n      element.type = \"text/css\";\n      element.href = url;\n      console.debug(\"Bokeh: injecting link tag for BokehJS stylesheet: \", url);\n      document.body.appendChild(element);\n    }\n\n    for (let i = 0; i < js_urls.length; i++) {\n      const url = js_urls[i];\n      const element = document.createElement('script');\n      element.onload = on_load;\n      element.onerror = on_error.bind(null, url);\n      element.async = false;\n      element.src = url;\n      console.debug(\"Bokeh: injecting script tag for BokehJS library: \", url);\n      document.head.appendChild(element);\n    }\n  };\n\n  function inject_raw_css(css) {\n    const element = document.createElement(\"style\");\n    element.appendChild(document.createTextNode(css));\n    document.body.appendChild(element);\n  }\n\n  const js_urls = [\"https://cdn.bokeh.org/bokeh/release/bokeh-2.4.3.min.js\", \"https://cdn.bokeh.org/bokeh/release/bokeh-gl-2.4.3.min.js\", \"https://cdn.bokeh.org/bokeh/release/bokeh-widgets-2.4.3.min.js\", \"https://cdn.bokeh.org/bokeh/release/bokeh-tables-2.4.3.min.js\", \"https://cdn.bokeh.org/bokeh/release/bokeh-mathjax-2.4.3.min.js\"];\n  const css_urls = [];\n\n  const inline_js = [    function(Bokeh) {\n      Bokeh.set_log_level(\"info\");\n    },\nfunction(Bokeh) {\n    }\n  ];\n\n  function run_inline_js() {\n    if (root.Bokeh !== undefined || force === true) {\n          for (let i = 0; i < inline_js.length; i++) {\n      inline_js[i].call(root, root.Bokeh);\n    }\nif (force === true) {\n        display_loaded();\n      }} else if (Date.now() < root._bokeh_timeout) {\n      setTimeout(run_inline_js, 100);\n    } else if (!root._bokeh_failed_load) {\n      console.log(\"Bokeh: BokehJS failed to load within specified timeout.\");\n      root._bokeh_failed_load = true;\n    } else if (force !== true) {\n      const cell = $(document.getElementById(\"1002\")).parents('.cell').data().cell;\n      cell.output_area.append_execute_result(NB_LOAD_WARNING)\n    }\n  }\n\n  if (root._bokeh_is_loading === 0) {\n    console.debug(\"Bokeh: BokehJS loaded, going straight to plotting\");\n    run_inline_js();\n  } else {\n    load_libs(css_urls, js_urls, function() {\n      console.debug(\"Bokeh: BokehJS plotting callback run at\", now());\n      run_inline_js();\n    });\n  }\n}(window));"
     },
     "metadata": {},
     "output_type": "display_data"
    }
   ],
   "source": [
    "import pandas as pd\n",
    "import plotly.express as px\n",
    "import networkx as nx\n",
    "import matplotlib.pyplot as plt\n",
    "import chart_studio\n",
    "import chart_studio.plotly as py\n",
    "from bokeh.io import output_notebook, show, save\n",
    "from bokeh.palettes import Blues8, Reds8, Purples8, Oranges8, Viridis8, Spectral8, Accent\n",
    "from bokeh.io import output_notebook, show, save\n",
    "from bokeh.models import Scatter, Range1d, Circle, ColumnDataSource, MultiLine, LabelSet, EdgesAndLinkedNodes, NodesAndLinkedEdges\n",
    "from bokeh.plotting import figure, from_networkx\n",
    "output_notebook()"
   ]
  },
  {
   "cell_type": "code",
   "execution_count": 4,
   "id": "b3998ce8",
   "metadata": {},
   "outputs": [
    {
     "data": {
      "application/vnd.plotly.v1+json": {
       "config": {
        "plotlyServerURL": "https://plotly.com"
       },
       "data": [
        {
         "domain": {
          "x": [
           0,
           1
          ],
          "y": [
           0,
           1
          ]
         },
         "hovertemplate": "label=%{label}<br>parent=%{parent}<extra></extra>",
         "labels": [
          "Creative Writing",
          "Critical University Studies",
          "Data Privacy & Ethics",
          "Digital Humanities",
          "Drama",
          "Empire",
          "English",
          "Essay",
          "Fiction",
          "Film",
          "Gender Studies",
          "George Orwell",
          "Globalization",
          "Grammar",
          "Health",
          "History",
          "History of Rhetoric",
          "International Law & Human Rights",
          "Jane Austen",
          "Language and the Law",
          "Large Scale Text Analysis",
          "Literary and Cultural History",
          "Literary and Cultural Studies",
          "Media",
          "Memoir",
          "Migration",
          "Mobilities",
          "Networks",
          "Non-Fiction",
          "Novel",
          "Performance Studies",
          "Poetry",
          "Power",
          "Print History",
          "Professional/Workplace Communication",
          "Propaganda",
          "Race",
          "Ralph Ellison",
          "Rhetoric",
          "Screenwriting",
          "Shakespeare",
          "Short Stories",
          "Style",
          "Toni Morrison",
          "Translation",
          "Virtual Reality",
          "Writing and Statistics"
         ],
         "name": "",
         "parents": [
          "English",
          "Literary and Cultural Studies",
          "Digital Humanities",
          "English",
          "Creative Writing",
          "Migration",
          null,
          "Non-Fiction",
          "Creative Writing",
          "Media",
          "Power",
          "Literary and Cultural History",
          "Migration",
          "Rhetoric",
          "Rhetoric",
          "English",
          "History",
          "Migration",
          "Literary and Cultural History",
          "Power",
          "Digital Humanities",
          "History",
          "English",
          "English",
          "Non-Fiction",
          "English",
          "Migration",
          "Digital Humanities",
          "Creative Writing",
          "Fiction",
          "Literary and Cultural Studies",
          "Creative Writing",
          "English",
          "Media",
          "Rhetoric",
          "Media",
          "Power",
          "Literary and Cultural History",
          "English",
          "Creative Writing",
          "Literary and Cultural History",
          "Fiction",
          "Rhetoric",
          "Literary and Cultural History",
          "Migration",
          "Digital Humanities",
          "Rhetoric"
         ],
         "root": {
          "color": "darkgray"
         },
         "type": "treemap"
        }
       ],
       "layout": {
        "legend": {
         "tracegroupgap": 0
        },
        "margin": {
         "b": 50,
         "l": 50,
         "r": 50,
         "t": 100
        },
        "template": {
         "data": {
          "bar": [
           {
            "error_x": {
             "color": "#2a3f5f"
            },
            "error_y": {
             "color": "#2a3f5f"
            },
            "marker": {
             "line": {
              "color": "#E5ECF6",
              "width": 0.5
             },
             "pattern": {
              "fillmode": "overlay",
              "size": 10,
              "solidity": 0.2
             }
            },
            "type": "bar"
           }
          ],
          "barpolar": [
           {
            "marker": {
             "line": {
              "color": "#E5ECF6",
              "width": 0.5
             },
             "pattern": {
              "fillmode": "overlay",
              "size": 10,
              "solidity": 0.2
             }
            },
            "type": "barpolar"
           }
          ],
          "carpet": [
           {
            "aaxis": {
             "endlinecolor": "#2a3f5f",
             "gridcolor": "white",
             "linecolor": "white",
             "minorgridcolor": "white",
             "startlinecolor": "#2a3f5f"
            },
            "baxis": {
             "endlinecolor": "#2a3f5f",
             "gridcolor": "white",
             "linecolor": "white",
             "minorgridcolor": "white",
             "startlinecolor": "#2a3f5f"
            },
            "type": "carpet"
           }
          ],
          "choropleth": [
           {
            "colorbar": {
             "outlinewidth": 0,
             "ticks": ""
            },
            "type": "choropleth"
           }
          ],
          "contour": [
           {
            "colorbar": {
             "outlinewidth": 0,
             "ticks": ""
            },
            "colorscale": [
             [
              0,
              "#0d0887"
             ],
             [
              0.1111111111111111,
              "#46039f"
             ],
             [
              0.2222222222222222,
              "#7201a8"
             ],
             [
              0.3333333333333333,
              "#9c179e"
             ],
             [
              0.4444444444444444,
              "#bd3786"
             ],
             [
              0.5555555555555556,
              "#d8576b"
             ],
             [
              0.6666666666666666,
              "#ed7953"
             ],
             [
              0.7777777777777778,
              "#fb9f3a"
             ],
             [
              0.8888888888888888,
              "#fdca26"
             ],
             [
              1,
              "#f0f921"
             ]
            ],
            "type": "contour"
           }
          ],
          "contourcarpet": [
           {
            "colorbar": {
             "outlinewidth": 0,
             "ticks": ""
            },
            "type": "contourcarpet"
           }
          ],
          "heatmap": [
           {
            "colorbar": {
             "outlinewidth": 0,
             "ticks": ""
            },
            "colorscale": [
             [
              0,
              "#0d0887"
             ],
             [
              0.1111111111111111,
              "#46039f"
             ],
             [
              0.2222222222222222,
              "#7201a8"
             ],
             [
              0.3333333333333333,
              "#9c179e"
             ],
             [
              0.4444444444444444,
              "#bd3786"
             ],
             [
              0.5555555555555556,
              "#d8576b"
             ],
             [
              0.6666666666666666,
              "#ed7953"
             ],
             [
              0.7777777777777778,
              "#fb9f3a"
             ],
             [
              0.8888888888888888,
              "#fdca26"
             ],
             [
              1,
              "#f0f921"
             ]
            ],
            "type": "heatmap"
           }
          ],
          "heatmapgl": [
           {
            "colorbar": {
             "outlinewidth": 0,
             "ticks": ""
            },
            "colorscale": [
             [
              0,
              "#0d0887"
             ],
             [
              0.1111111111111111,
              "#46039f"
             ],
             [
              0.2222222222222222,
              "#7201a8"
             ],
             [
              0.3333333333333333,
              "#9c179e"
             ],
             [
              0.4444444444444444,
              "#bd3786"
             ],
             [
              0.5555555555555556,
              "#d8576b"
             ],
             [
              0.6666666666666666,
              "#ed7953"
             ],
             [
              0.7777777777777778,
              "#fb9f3a"
             ],
             [
              0.8888888888888888,
              "#fdca26"
             ],
             [
              1,
              "#f0f921"
             ]
            ],
            "type": "heatmapgl"
           }
          ],
          "histogram": [
           {
            "marker": {
             "pattern": {
              "fillmode": "overlay",
              "size": 10,
              "solidity": 0.2
             }
            },
            "type": "histogram"
           }
          ],
          "histogram2d": [
           {
            "colorbar": {
             "outlinewidth": 0,
             "ticks": ""
            },
            "colorscale": [
             [
              0,
              "#0d0887"
             ],
             [
              0.1111111111111111,
              "#46039f"
             ],
             [
              0.2222222222222222,
              "#7201a8"
             ],
             [
              0.3333333333333333,
              "#9c179e"
             ],
             [
              0.4444444444444444,
              "#bd3786"
             ],
             [
              0.5555555555555556,
              "#d8576b"
             ],
             [
              0.6666666666666666,
              "#ed7953"
             ],
             [
              0.7777777777777778,
              "#fb9f3a"
             ],
             [
              0.8888888888888888,
              "#fdca26"
             ],
             [
              1,
              "#f0f921"
             ]
            ],
            "type": "histogram2d"
           }
          ],
          "histogram2dcontour": [
           {
            "colorbar": {
             "outlinewidth": 0,
             "ticks": ""
            },
            "colorscale": [
             [
              0,
              "#0d0887"
             ],
             [
              0.1111111111111111,
              "#46039f"
             ],
             [
              0.2222222222222222,
              "#7201a8"
             ],
             [
              0.3333333333333333,
              "#9c179e"
             ],
             [
              0.4444444444444444,
              "#bd3786"
             ],
             [
              0.5555555555555556,
              "#d8576b"
             ],
             [
              0.6666666666666666,
              "#ed7953"
             ],
             [
              0.7777777777777778,
              "#fb9f3a"
             ],
             [
              0.8888888888888888,
              "#fdca26"
             ],
             [
              1,
              "#f0f921"
             ]
            ],
            "type": "histogram2dcontour"
           }
          ],
          "mesh3d": [
           {
            "colorbar": {
             "outlinewidth": 0,
             "ticks": ""
            },
            "type": "mesh3d"
           }
          ],
          "parcoords": [
           {
            "line": {
             "colorbar": {
              "outlinewidth": 0,
              "ticks": ""
             }
            },
            "type": "parcoords"
           }
          ],
          "pie": [
           {
            "automargin": true,
            "type": "pie"
           }
          ],
          "scatter": [
           {
            "marker": {
             "colorbar": {
              "outlinewidth": 0,
              "ticks": ""
             }
            },
            "type": "scatter"
           }
          ],
          "scatter3d": [
           {
            "line": {
             "colorbar": {
              "outlinewidth": 0,
              "ticks": ""
             }
            },
            "marker": {
             "colorbar": {
              "outlinewidth": 0,
              "ticks": ""
             }
            },
            "type": "scatter3d"
           }
          ],
          "scattercarpet": [
           {
            "marker": {
             "colorbar": {
              "outlinewidth": 0,
              "ticks": ""
             }
            },
            "type": "scattercarpet"
           }
          ],
          "scattergeo": [
           {
            "marker": {
             "colorbar": {
              "outlinewidth": 0,
              "ticks": ""
             }
            },
            "type": "scattergeo"
           }
          ],
          "scattergl": [
           {
            "marker": {
             "colorbar": {
              "outlinewidth": 0,
              "ticks": ""
             }
            },
            "type": "scattergl"
           }
          ],
          "scattermapbox": [
           {
            "marker": {
             "colorbar": {
              "outlinewidth": 0,
              "ticks": ""
             }
            },
            "type": "scattermapbox"
           }
          ],
          "scatterpolar": [
           {
            "marker": {
             "colorbar": {
              "outlinewidth": 0,
              "ticks": ""
             }
            },
            "type": "scatterpolar"
           }
          ],
          "scatterpolargl": [
           {
            "marker": {
             "colorbar": {
              "outlinewidth": 0,
              "ticks": ""
             }
            },
            "type": "scatterpolargl"
           }
          ],
          "scatterternary": [
           {
            "marker": {
             "colorbar": {
              "outlinewidth": 0,
              "ticks": ""
             }
            },
            "type": "scatterternary"
           }
          ],
          "surface": [
           {
            "colorbar": {
             "outlinewidth": 0,
             "ticks": ""
            },
            "colorscale": [
             [
              0,
              "#0d0887"
             ],
             [
              0.1111111111111111,
              "#46039f"
             ],
             [
              0.2222222222222222,
              "#7201a8"
             ],
             [
              0.3333333333333333,
              "#9c179e"
             ],
             [
              0.4444444444444444,
              "#bd3786"
             ],
             [
              0.5555555555555556,
              "#d8576b"
             ],
             [
              0.6666666666666666,
              "#ed7953"
             ],
             [
              0.7777777777777778,
              "#fb9f3a"
             ],
             [
              0.8888888888888888,
              "#fdca26"
             ],
             [
              1,
              "#f0f921"
             ]
            ],
            "type": "surface"
           }
          ],
          "table": [
           {
            "cells": {
             "fill": {
              "color": "#EBF0F8"
             },
             "line": {
              "color": "white"
             }
            },
            "header": {
             "fill": {
              "color": "#C8D4E3"
             },
             "line": {
              "color": "white"
             }
            },
            "type": "table"
           }
          ]
         },
         "layout": {
          "annotationdefaults": {
           "arrowcolor": "#2a3f5f",
           "arrowhead": 0,
           "arrowwidth": 1
          },
          "autotypenumbers": "strict",
          "coloraxis": {
           "colorbar": {
            "outlinewidth": 0,
            "ticks": ""
           }
          },
          "colorscale": {
           "diverging": [
            [
             0,
             "#8e0152"
            ],
            [
             0.1,
             "#c51b7d"
            ],
            [
             0.2,
             "#de77ae"
            ],
            [
             0.3,
             "#f1b6da"
            ],
            [
             0.4,
             "#fde0ef"
            ],
            [
             0.5,
             "#f7f7f7"
            ],
            [
             0.6,
             "#e6f5d0"
            ],
            [
             0.7,
             "#b8e186"
            ],
            [
             0.8,
             "#7fbc41"
            ],
            [
             0.9,
             "#4d9221"
            ],
            [
             1,
             "#276419"
            ]
           ],
           "sequential": [
            [
             0,
             "#0d0887"
            ],
            [
             0.1111111111111111,
             "#46039f"
            ],
            [
             0.2222222222222222,
             "#7201a8"
            ],
            [
             0.3333333333333333,
             "#9c179e"
            ],
            [
             0.4444444444444444,
             "#bd3786"
            ],
            [
             0.5555555555555556,
             "#d8576b"
            ],
            [
             0.6666666666666666,
             "#ed7953"
            ],
            [
             0.7777777777777778,
             "#fb9f3a"
            ],
            [
             0.8888888888888888,
             "#fdca26"
            ],
            [
             1,
             "#f0f921"
            ]
           ],
           "sequentialminus": [
            [
             0,
             "#0d0887"
            ],
            [
             0.1111111111111111,
             "#46039f"
            ],
            [
             0.2222222222222222,
             "#7201a8"
            ],
            [
             0.3333333333333333,
             "#9c179e"
            ],
            [
             0.4444444444444444,
             "#bd3786"
            ],
            [
             0.5555555555555556,
             "#d8576b"
            ],
            [
             0.6666666666666666,
             "#ed7953"
            ],
            [
             0.7777777777777778,
             "#fb9f3a"
            ],
            [
             0.8888888888888888,
             "#fdca26"
            ],
            [
             1,
             "#f0f921"
            ]
           ]
          },
          "colorway": [
           "#636efa",
           "#EF553B",
           "#00cc96",
           "#ab63fa",
           "#FFA15A",
           "#19d3f3",
           "#FF6692",
           "#B6E880",
           "#FF97FF",
           "#FECB52"
          ],
          "font": {
           "color": "#2a3f5f"
          },
          "geo": {
           "bgcolor": "white",
           "lakecolor": "white",
           "landcolor": "#E5ECF6",
           "showlakes": true,
           "showland": true,
           "subunitcolor": "white"
          },
          "hoverlabel": {
           "align": "left"
          },
          "hovermode": "closest",
          "mapbox": {
           "style": "light"
          },
          "paper_bgcolor": "white",
          "plot_bgcolor": "#E5ECF6",
          "polar": {
           "angularaxis": {
            "gridcolor": "white",
            "linecolor": "white",
            "ticks": ""
           },
           "bgcolor": "#E5ECF6",
           "radialaxis": {
            "gridcolor": "white",
            "linecolor": "white",
            "ticks": ""
           }
          },
          "scene": {
           "xaxis": {
            "backgroundcolor": "#E5ECF6",
            "gridcolor": "white",
            "gridwidth": 2,
            "linecolor": "white",
            "showbackground": true,
            "ticks": "",
            "zerolinecolor": "white"
           },
           "yaxis": {
            "backgroundcolor": "#E5ECF6",
            "gridcolor": "white",
            "gridwidth": 2,
            "linecolor": "white",
            "showbackground": true,
            "ticks": "",
            "zerolinecolor": "white"
           },
           "zaxis": {
            "backgroundcolor": "#E5ECF6",
            "gridcolor": "white",
            "gridwidth": 2,
            "linecolor": "white",
            "showbackground": true,
            "ticks": "",
            "zerolinecolor": "white"
           }
          },
          "shapedefaults": {
           "line": {
            "color": "#2a3f5f"
           }
          },
          "ternary": {
           "aaxis": {
            "gridcolor": "white",
            "linecolor": "white",
            "ticks": ""
           },
           "baxis": {
            "gridcolor": "white",
            "linecolor": "white",
            "ticks": ""
           },
           "bgcolor": "#E5ECF6",
           "caxis": {
            "gridcolor": "white",
            "linecolor": "white",
            "ticks": ""
           }
          },
          "title": {
           "x": 0.05
          },
          "xaxis": {
           "automargin": true,
           "gridcolor": "white",
           "linecolor": "white",
           "ticks": "",
           "title": {
            "standoff": 15
           },
           "zerolinecolor": "white",
           "zerolinewidth": 2
          },
          "yaxis": {
           "automargin": true,
           "gridcolor": "white",
           "linecolor": "white",
           "ticks": "",
           "title": {
            "standoff": 15
           },
           "zerolinecolor": "white",
           "zerolinewidth": 2
          }
         }
        }
       }
      },
      "text/html": [
       "<div>                            <div id=\"a0bb2f4b-8ae0-439e-aecf-7f1253cf7207\" class=\"plotly-graph-div\" style=\"height:525px; width:100%;\"></div>            <script type=\"text/javascript\">                require([\"plotly\"], function(Plotly) {                    window.PLOTLYENV=window.PLOTLYENV || {};                                    if (document.getElementById(\"a0bb2f4b-8ae0-439e-aecf-7f1253cf7207\")) {                    Plotly.newPlot(                        \"a0bb2f4b-8ae0-439e-aecf-7f1253cf7207\",                        [{\"domain\":{\"x\":[0.0,1.0],\"y\":[0.0,1.0]},\"hovertemplate\":\"label=%{label}<br>parent=%{parent}<extra></extra>\",\"labels\":[\"Creative Writing\",\"Critical University Studies\",\"Data Privacy & Ethics\",\"Digital Humanities\",\"Drama\",\"Empire\",\"English\",\"Essay\",\"Fiction\",\"Film\",\"Gender Studies\",\"George Orwell\",\"Globalization\",\"Grammar\",\"Health\",\"History\",\"History of Rhetoric\",\"International Law & Human Rights\",\"Jane Austen\",\"Language and the Law\",\"Large Scale Text Analysis\",\"Literary and Cultural History\",\"Literary and Cultural Studies\",\"Media\",\"Memoir\",\"Migration\",\"Mobilities\",\"Networks\",\"Non-Fiction\",\"Novel\",\"Performance Studies\",\"Poetry\",\"Power\",\"Print History\",\"Professional/Workplace Communication\",\"Propaganda\",\"Race\",\"Ralph Ellison\",\"Rhetoric\",\"Screenwriting\",\"Shakespeare\",\"Short Stories\",\"Style\",\"Toni Morrison\",\"Translation\",\"Virtual Reality\",\"Writing and Statistics\"],\"name\":\"\",\"parents\":[\"English\",\"Literary and Cultural Studies\",\"Digital Humanities\",\"English\",\"Creative Writing\",\"Migration\",null,\"Non-Fiction\",\"Creative Writing\",\"Media\",\"Power\",\"Literary and Cultural History\",\"Migration\",\"Rhetoric\",\"Rhetoric\",\"English\",\"History\",\"Migration\",\"Literary and Cultural History\",\"Power\",\"Digital Humanities\",\"History\",\"English\",\"English\",\"Non-Fiction\",\"English\",\"Migration\",\"Digital Humanities\",\"Creative Writing\",\"Fiction\",\"Literary and Cultural Studies\",\"Creative Writing\",\"English\",\"Media\",\"Rhetoric\",\"Media\",\"Power\",\"Literary and Cultural History\",\"English\",\"Creative Writing\",\"Literary and Cultural History\",\"Fiction\",\"Rhetoric\",\"Literary and Cultural History\",\"Migration\",\"Digital Humanities\",\"Rhetoric\"],\"root\":{\"color\":\"darkgray\"},\"type\":\"treemap\"}],                        {\"legend\":{\"tracegroupgap\":0},\"margin\":{\"b\":50,\"l\":50,\"r\":50,\"t\":100},\"template\":{\"data\":{\"bar\":[{\"error_x\":{\"color\":\"#2a3f5f\"},\"error_y\":{\"color\":\"#2a3f5f\"},\"marker\":{\"line\":{\"color\":\"#E5ECF6\",\"width\":0.5},\"pattern\":{\"fillmode\":\"overlay\",\"size\":10,\"solidity\":0.2}},\"type\":\"bar\"}],\"barpolar\":[{\"marker\":{\"line\":{\"color\":\"#E5ECF6\",\"width\":0.5},\"pattern\":{\"fillmode\":\"overlay\",\"size\":10,\"solidity\":0.2}},\"type\":\"barpolar\"}],\"carpet\":[{\"aaxis\":{\"endlinecolor\":\"#2a3f5f\",\"gridcolor\":\"white\",\"linecolor\":\"white\",\"minorgridcolor\":\"white\",\"startlinecolor\":\"#2a3f5f\"},\"baxis\":{\"endlinecolor\":\"#2a3f5f\",\"gridcolor\":\"white\",\"linecolor\":\"white\",\"minorgridcolor\":\"white\",\"startlinecolor\":\"#2a3f5f\"},\"type\":\"carpet\"}],\"choropleth\":[{\"colorbar\":{\"outlinewidth\":0,\"ticks\":\"\"},\"type\":\"choropleth\"}],\"contour\":[{\"colorbar\":{\"outlinewidth\":0,\"ticks\":\"\"},\"colorscale\":[[0.0,\"#0d0887\"],[0.1111111111111111,\"#46039f\"],[0.2222222222222222,\"#7201a8\"],[0.3333333333333333,\"#9c179e\"],[0.4444444444444444,\"#bd3786\"],[0.5555555555555556,\"#d8576b\"],[0.6666666666666666,\"#ed7953\"],[0.7777777777777778,\"#fb9f3a\"],[0.8888888888888888,\"#fdca26\"],[1.0,\"#f0f921\"]],\"type\":\"contour\"}],\"contourcarpet\":[{\"colorbar\":{\"outlinewidth\":0,\"ticks\":\"\"},\"type\":\"contourcarpet\"}],\"heatmap\":[{\"colorbar\":{\"outlinewidth\":0,\"ticks\":\"\"},\"colorscale\":[[0.0,\"#0d0887\"],[0.1111111111111111,\"#46039f\"],[0.2222222222222222,\"#7201a8\"],[0.3333333333333333,\"#9c179e\"],[0.4444444444444444,\"#bd3786\"],[0.5555555555555556,\"#d8576b\"],[0.6666666666666666,\"#ed7953\"],[0.7777777777777778,\"#fb9f3a\"],[0.8888888888888888,\"#fdca26\"],[1.0,\"#f0f921\"]],\"type\":\"heatmap\"}],\"heatmapgl\":[{\"colorbar\":{\"outlinewidth\":0,\"ticks\":\"\"},\"colorscale\":[[0.0,\"#0d0887\"],[0.1111111111111111,\"#46039f\"],[0.2222222222222222,\"#7201a8\"],[0.3333333333333333,\"#9c179e\"],[0.4444444444444444,\"#bd3786\"],[0.5555555555555556,\"#d8576b\"],[0.6666666666666666,\"#ed7953\"],[0.7777777777777778,\"#fb9f3a\"],[0.8888888888888888,\"#fdca26\"],[1.0,\"#f0f921\"]],\"type\":\"heatmapgl\"}],\"histogram\":[{\"marker\":{\"pattern\":{\"fillmode\":\"overlay\",\"size\":10,\"solidity\":0.2}},\"type\":\"histogram\"}],\"histogram2d\":[{\"colorbar\":{\"outlinewidth\":0,\"ticks\":\"\"},\"colorscale\":[[0.0,\"#0d0887\"],[0.1111111111111111,\"#46039f\"],[0.2222222222222222,\"#7201a8\"],[0.3333333333333333,\"#9c179e\"],[0.4444444444444444,\"#bd3786\"],[0.5555555555555556,\"#d8576b\"],[0.6666666666666666,\"#ed7953\"],[0.7777777777777778,\"#fb9f3a\"],[0.8888888888888888,\"#fdca26\"],[1.0,\"#f0f921\"]],\"type\":\"histogram2d\"}],\"histogram2dcontour\":[{\"colorbar\":{\"outlinewidth\":0,\"ticks\":\"\"},\"colorscale\":[[0.0,\"#0d0887\"],[0.1111111111111111,\"#46039f\"],[0.2222222222222222,\"#7201a8\"],[0.3333333333333333,\"#9c179e\"],[0.4444444444444444,\"#bd3786\"],[0.5555555555555556,\"#d8576b\"],[0.6666666666666666,\"#ed7953\"],[0.7777777777777778,\"#fb9f3a\"],[0.8888888888888888,\"#fdca26\"],[1.0,\"#f0f921\"]],\"type\":\"histogram2dcontour\"}],\"mesh3d\":[{\"colorbar\":{\"outlinewidth\":0,\"ticks\":\"\"},\"type\":\"mesh3d\"}],\"parcoords\":[{\"line\":{\"colorbar\":{\"outlinewidth\":0,\"ticks\":\"\"}},\"type\":\"parcoords\"}],\"pie\":[{\"automargin\":true,\"type\":\"pie\"}],\"scatter\":[{\"marker\":{\"colorbar\":{\"outlinewidth\":0,\"ticks\":\"\"}},\"type\":\"scatter\"}],\"scatter3d\":[{\"line\":{\"colorbar\":{\"outlinewidth\":0,\"ticks\":\"\"}},\"marker\":{\"colorbar\":{\"outlinewidth\":0,\"ticks\":\"\"}},\"type\":\"scatter3d\"}],\"scattercarpet\":[{\"marker\":{\"colorbar\":{\"outlinewidth\":0,\"ticks\":\"\"}},\"type\":\"scattercarpet\"}],\"scattergeo\":[{\"marker\":{\"colorbar\":{\"outlinewidth\":0,\"ticks\":\"\"}},\"type\":\"scattergeo\"}],\"scattergl\":[{\"marker\":{\"colorbar\":{\"outlinewidth\":0,\"ticks\":\"\"}},\"type\":\"scattergl\"}],\"scattermapbox\":[{\"marker\":{\"colorbar\":{\"outlinewidth\":0,\"ticks\":\"\"}},\"type\":\"scattermapbox\"}],\"scatterpolar\":[{\"marker\":{\"colorbar\":{\"outlinewidth\":0,\"ticks\":\"\"}},\"type\":\"scatterpolar\"}],\"scatterpolargl\":[{\"marker\":{\"colorbar\":{\"outlinewidth\":0,\"ticks\":\"\"}},\"type\":\"scatterpolargl\"}],\"scatterternary\":[{\"marker\":{\"colorbar\":{\"outlinewidth\":0,\"ticks\":\"\"}},\"type\":\"scatterternary\"}],\"surface\":[{\"colorbar\":{\"outlinewidth\":0,\"ticks\":\"\"},\"colorscale\":[[0.0,\"#0d0887\"],[0.1111111111111111,\"#46039f\"],[0.2222222222222222,\"#7201a8\"],[0.3333333333333333,\"#9c179e\"],[0.4444444444444444,\"#bd3786\"],[0.5555555555555556,\"#d8576b\"],[0.6666666666666666,\"#ed7953\"],[0.7777777777777778,\"#fb9f3a\"],[0.8888888888888888,\"#fdca26\"],[1.0,\"#f0f921\"]],\"type\":\"surface\"}],\"table\":[{\"cells\":{\"fill\":{\"color\":\"#EBF0F8\"},\"line\":{\"color\":\"white\"}},\"header\":{\"fill\":{\"color\":\"#C8D4E3\"},\"line\":{\"color\":\"white\"}},\"type\":\"table\"}]},\"layout\":{\"annotationdefaults\":{\"arrowcolor\":\"#2a3f5f\",\"arrowhead\":0,\"arrowwidth\":1},\"autotypenumbers\":\"strict\",\"coloraxis\":{\"colorbar\":{\"outlinewidth\":0,\"ticks\":\"\"}},\"colorscale\":{\"diverging\":[[0,\"#8e0152\"],[0.1,\"#c51b7d\"],[0.2,\"#de77ae\"],[0.3,\"#f1b6da\"],[0.4,\"#fde0ef\"],[0.5,\"#f7f7f7\"],[0.6,\"#e6f5d0\"],[0.7,\"#b8e186\"],[0.8,\"#7fbc41\"],[0.9,\"#4d9221\"],[1,\"#276419\"]],\"sequential\":[[0.0,\"#0d0887\"],[0.1111111111111111,\"#46039f\"],[0.2222222222222222,\"#7201a8\"],[0.3333333333333333,\"#9c179e\"],[0.4444444444444444,\"#bd3786\"],[0.5555555555555556,\"#d8576b\"],[0.6666666666666666,\"#ed7953\"],[0.7777777777777778,\"#fb9f3a\"],[0.8888888888888888,\"#fdca26\"],[1.0,\"#f0f921\"]],\"sequentialminus\":[[0.0,\"#0d0887\"],[0.1111111111111111,\"#46039f\"],[0.2222222222222222,\"#7201a8\"],[0.3333333333333333,\"#9c179e\"],[0.4444444444444444,\"#bd3786\"],[0.5555555555555556,\"#d8576b\"],[0.6666666666666666,\"#ed7953\"],[0.7777777777777778,\"#fb9f3a\"],[0.8888888888888888,\"#fdca26\"],[1.0,\"#f0f921\"]]},\"colorway\":[\"#636efa\",\"#EF553B\",\"#00cc96\",\"#ab63fa\",\"#FFA15A\",\"#19d3f3\",\"#FF6692\",\"#B6E880\",\"#FF97FF\",\"#FECB52\"],\"font\":{\"color\":\"#2a3f5f\"},\"geo\":{\"bgcolor\":\"white\",\"lakecolor\":\"white\",\"landcolor\":\"#E5ECF6\",\"showlakes\":true,\"showland\":true,\"subunitcolor\":\"white\"},\"hoverlabel\":{\"align\":\"left\"},\"hovermode\":\"closest\",\"mapbox\":{\"style\":\"light\"},\"paper_bgcolor\":\"white\",\"plot_bgcolor\":\"#E5ECF6\",\"polar\":{\"angularaxis\":{\"gridcolor\":\"white\",\"linecolor\":\"white\",\"ticks\":\"\"},\"bgcolor\":\"#E5ECF6\",\"radialaxis\":{\"gridcolor\":\"white\",\"linecolor\":\"white\",\"ticks\":\"\"}},\"scene\":{\"xaxis\":{\"backgroundcolor\":\"#E5ECF6\",\"gridcolor\":\"white\",\"gridwidth\":2,\"linecolor\":\"white\",\"showbackground\":true,\"ticks\":\"\",\"zerolinecolor\":\"white\"},\"yaxis\":{\"backgroundcolor\":\"#E5ECF6\",\"gridcolor\":\"white\",\"gridwidth\":2,\"linecolor\":\"white\",\"showbackground\":true,\"ticks\":\"\",\"zerolinecolor\":\"white\"},\"zaxis\":{\"backgroundcolor\":\"#E5ECF6\",\"gridcolor\":\"white\",\"gridwidth\":2,\"linecolor\":\"white\",\"showbackground\":true,\"ticks\":\"\",\"zerolinecolor\":\"white\"}},\"shapedefaults\":{\"line\":{\"color\":\"#2a3f5f\"}},\"ternary\":{\"aaxis\":{\"gridcolor\":\"white\",\"linecolor\":\"white\",\"ticks\":\"\"},\"baxis\":{\"gridcolor\":\"white\",\"linecolor\":\"white\",\"ticks\":\"\"},\"bgcolor\":\"#E5ECF6\",\"caxis\":{\"gridcolor\":\"white\",\"linecolor\":\"white\",\"ticks\":\"\"}},\"title\":{\"x\":0.05},\"xaxis\":{\"automargin\":true,\"gridcolor\":\"white\",\"linecolor\":\"white\",\"ticks\":\"\",\"title\":{\"standoff\":15},\"zerolinecolor\":\"white\",\"zerolinewidth\":2},\"yaxis\":{\"automargin\":true,\"gridcolor\":\"white\",\"linecolor\":\"white\",\"ticks\":\"\",\"title\":{\"standoff\":15},\"zerolinecolor\":\"white\",\"zerolinewidth\":2}}}},                        {\"responsive\": true}                    ).then(function(){\n",
       "                            \n",
       "var gd = document.getElementById('a0bb2f4b-8ae0-439e-aecf-7f1253cf7207');\n",
       "var x = new MutationObserver(function (mutations, observer) {{\n",
       "        var display = window.getComputedStyle(gd).display;\n",
       "        if (!display || display === 'none') {{\n",
       "            console.log([gd, 'removed!']);\n",
       "            Plotly.purge(gd);\n",
       "            observer.disconnect();\n",
       "        }}\n",
       "}});\n",
       "\n",
       "// Listen for the removal of the full notebook cells\n",
       "var notebookContainer = gd.closest('#notebook-container');\n",
       "if (notebookContainer) {{\n",
       "    x.observe(notebookContainer, {childList: true});\n",
       "}}\n",
       "\n",
       "// Listen for the clearing of the current output cell\n",
       "var outputEl = gd.closest('.output');\n",
       "if (outputEl) {{\n",
       "    x.observe(outputEl, {childList: true});\n",
       "}}\n",
       "\n",
       "                        })                };                });            </script>        </div>"
      ]
     },
     "metadata": {},
     "output_type": "display_data"
    }
   ],
   "source": [
    "df= pd.read_csv('tree_data.csv')\n",
    "df = df.sort_values(by='Name')\n",
    "fig = px.treemap(\n",
    "    names = df['Name'],\n",
    "    parents = df['Parent']\n",
    ")\n",
    "fig.update_traces(root_color=\"darkgray\")\n",
    "fig.update_layout(margin = dict(t=100, l=50, r=50, b=50))\n",
    "fig.show()"
   ]
  },
  {
   "cell_type": "code",
   "execution_count": 5,
   "id": "f2829052",
   "metadata": {},
   "outputs": [],
   "source": [
    "\n",
    "username = 'your_username'\n",
    "api_key = 'your_api_key'\n",
    "chart_studio.tools.set_credentials_file(username=username, api_key=api_key)\n",
    "py.plot(fig, filename = 'english tree demo', auto_open=False)"
   ]
  },
  {
   "cell_type": "code",
   "execution_count": 7,
   "id": "478228fe",
   "metadata": {},
   "outputs": [],
   "source": [
    "palette = plt.cm.get_cmap('Paired').colors\n",
    "groups = pd.read_csv('groups2.csv')\n",
    "B = nx.Graph()\n",
    "faculty = {k: {'label':k, 'bipartite':1, 'color': Accent[3][0]} for k in groups['English']}\n",
    "faculty = [(k, faculty[k]) for k in faculty]\n",
    "group_nodes = [(group, {'label':group, 'bipartite':0, 'color': Accent[3][1]}) for group in groups.columns]\n",
    "#B.add_nodes_from(groups['English'], labels={k:k for k in groups['English']}, bipartite=0)\n",
    "B.add_nodes_from(faculty)\n",
    "B.add_nodes_from(group_nodes)\n",
    "for column in groups.columns:\n",
    "    for value in groups[column].dropna():\n",
    "        B.add_edge(column, value)\n",
    "degrees = dict(nx.degree(B))\n",
    "for key in degrees:    \n",
    "    degrees[key] *=  2\n",
    "nx.set_node_attributes(B, name='degree', values=degrees)\n",
    "number_to_adjust_by = 5\n",
    "adjusted_node_size = dict([(node, degree+number_to_adjust_by) for node, degree in nx.degree(B)])\n",
    "nx.set_node_attributes(B, name='adjusted_node_size', values=adjusted_node_size)"
   ]
  },
  {
   "cell_type": "code",
   "execution_count": 8,
   "id": "a6ee4051",
   "metadata": {},
   "outputs": [
    {
     "data": {
      "text/html": [
       "\n",
       "  <div class=\"bk-root\" id=\"22c36d47-403d-42ab-bf90-b2003bd5faea\" data-root-id=\"1005\"></div>\n"
      ]
     },
     "metadata": {},
     "output_type": "display_data"
    },
    {
     "data": {
      "application/javascript": [
       "(function(root) {\n",
       "  function embed_document(root) {\n",
       "  const docs_json = {\"a15d9bc5-ce38-461f-8ca7-192a4b0d3281\":{\"defs\":[],\"roots\":{\"references\":[{\"attributes\":{\"below\":[{\"id\":\"1014\"}],\"center\":[{\"id\":\"1017\"},{\"id\":\"1021\"}],\"left\":[{\"id\":\"1018\"}],\"renderers\":[{\"id\":\"1033\"},{\"id\":\"1082\"}],\"title\":{\"id\":\"1006\"},\"toolbar\":{\"id\":\"1027\"},\"width\":1000,\"x_range\":{\"id\":\"1003\"},\"x_scale\":{\"id\":\"1010\"},\"y_range\":{\"id\":\"1004\"},\"y_scale\":{\"id\":\"1012\"}},\"id\":\"1005\",\"subtype\":\"Figure\",\"type\":\"Plot\"},{\"attributes\":{},\"id\":\"1019\",\"type\":\"BasicTicker\"},{\"attributes\":{\"line_alpha\":{\"value\":0.5},\"line_color\":{\"value\":\"white\"}},\"id\":\"1062\",\"type\":\"MultiLine\"},{\"attributes\":{},\"id\":\"1102\",\"type\":\"Selection\"},{\"attributes\":{\"coordinates\":null,\"formatter\":{\"id\":\"1097\"},\"group\":null,\"major_label_policy\":{\"id\":\"1098\"},\"ticker\":{\"id\":\"1015\"}},\"id\":\"1014\",\"type\":\"LinearAxis\"},{\"attributes\":{\"coordinates\":null,\"data_source\":{\"id\":\"1035\"},\"glyph\":{\"id\":\"1047\"},\"group\":null,\"hover_glyph\":{\"id\":\"1052\"},\"selection_glyph\":{\"id\":\"1057\"},\"view\":{\"id\":\"1037\"}},\"id\":\"1036\",\"type\":\"GlyphRenderer\"},{\"attributes\":{\"end\":0.3,\"start\":-0.3},\"id\":\"1004\",\"type\":\"Range1d\"},{\"attributes\":{},\"id\":\"1094\",\"type\":\"BasicTickFormatter\"},{\"attributes\":{\"line_color\":{\"value\":\"#f0027f\"},\"line_width\":{\"value\":4}},\"id\":\"1067\",\"type\":\"MultiLine\"},{\"attributes\":{},\"id\":\"1015\",\"type\":\"BasicTicker\"},{\"attributes\":{},\"id\":\"1103\",\"type\":\"UnionRenderers\"},{\"attributes\":{\"axis\":{\"id\":\"1014\"},\"coordinates\":null,\"group\":null,\"ticker\":null},\"id\":\"1017\",\"type\":\"Grid\"},{\"attributes\":{},\"id\":\"1099\",\"type\":\"UnionRenderers\"},{\"attributes\":{},\"id\":\"1104\",\"type\":\"Selection\"},{\"attributes\":{\"end\":0.3,\"start\":-0.3},\"id\":\"1003\",\"type\":\"Range1d\"},{\"attributes\":{\"line_color\":{\"value\":\"#f0027f\"},\"line_width\":{\"value\":4}},\"id\":\"1072\",\"type\":\"MultiLine\"},{\"attributes\":{\"axis\":{\"id\":\"1018\"},\"coordinates\":null,\"dimension\":1,\"group\":null,\"ticker\":null},\"id\":\"1021\",\"type\":\"Grid\"},{\"attributes\":{},\"id\":\"1100\",\"type\":\"Selection\"},{\"attributes\":{\"coordinates\":null,\"formatter\":{\"id\":\"1094\"},\"group\":null,\"major_label_policy\":{\"id\":\"1095\"},\"ticker\":{\"id\":\"1019\"}},\"id\":\"1018\",\"type\":\"LinearAxis\"},{\"attributes\":{},\"id\":\"1095\",\"type\":\"AllLabels\"},{\"attributes\":{},\"id\":\"1079\",\"type\":\"NodesAndLinkedEdges\"},{\"attributes\":{\"source\":{\"id\":\"1035\"}},\"id\":\"1037\",\"type\":\"CDSView\"},{\"attributes\":{},\"id\":\"1077\",\"type\":\"NodesAndLinkedEdges\"},{\"attributes\":{\"fill_color\":{\"field\":\"color\"},\"size\":{\"field\":\"adjusted_node_size\"}},\"id\":\"1047\",\"type\":\"Circle\"},{\"attributes\":{\"data\":{\"name\":[\"Marian Aguiar\",\"Kathleen Newman\",\"Richard Purcell\",\"Christopher Warren\",\"Mariam Wassif\",\"David Shumway\",\"Jeffrey Williams\",\"Sede Makonnen\",\"Stephen Wittek\",\"John Oddo\",\"James Wynn\",\"David Brown\",\"Necia Werner\",\"Linda Flower\",\"Suguru Ishizaki\",\"Andreea Deciu Ritivoi\",\"Danielle Wetzel\",\"Joanna Wolfe\",\"Stephanie Larsen\",\"Doug Coulson\",\"Sharon Dilworth\",\"Jane Bernstein\",\"Gerald Costanzo\",\"Jane McCafferty\",\"Jason England\",\"Kevin Gonzalez\",\"Lauren Shapiro\",\"Camille Rankine\",\"English\",\"Literary and Cultural Studies\",\"Rhetoric\",\"Creative Writing\",\"Critical University Studies\",\"Power\",\"Language and the Law\",\"Health\",\"Digital Humanities\",\"Media\",\"Performance Studies\",\"Gender Studies\",\"History\",\"Translation\",\"Poetry\",\"Fiction\",\"Memoir\",\"Drama\",\"Screenwriting\",\"Professional/Workplace Communication\",\"Writing and Statistics\",\"Networks\",\"Race\",\"Film\",\"Propaganda\",\"Print History\",\"Migration\",\"Literary and Cultural History\",\"History of Rhetoric\",\"Large Scale Text Analysis\",\"Globalization\",\"Mobilities\",\"Empire\",\"Data Privacy & Ethics\",\"Virtual Reality\",\"Grammar\",\"Style\",\"Shakespeare\",\"Jane Austen\",\"Ralph Ellison\",\"Essay\",\"International Law & Human Rights\",\"Non-Fiction\",\"George Orwell\",\"Toni Morrison\",\"Novel\",\"Short Stories\"],\"x\":[0.1256508939685599,0.029627727202291974,-0.008107719886563022,0.11900497512825577,0.007060122543712046,0.0011258002434980372,0.04338462050733522,0.03823240683687622,0.10982177862867314,0.01828666978160101,-0.039086035907935884,0.06921539728133586,-0.00765726428604644,0.06835144968360646,0.042085150214599014,0.08154901535415862,0.004220184209570499,-0.02932646876435348,0.10499825100612464,0.05077735583903905,-0.22266835646322206,-0.159182873124459,-0.15401335921219272,-0.16695353271485414,-0.14063774224134706,-0.17083980362933227,-0.12351758375999476,-0.13123925084016608,-0.023727549016832612,0.06170384751943284,0.029741642836142397,-0.1784254965639558,0.09418961008379136,-0.7653128106313516,0.12768928016643513,0.16109440512359938,0.07805720652771603,0.044472903530289175,0.11897124069032135,0.20718292828347504,-1.0,-0.03916732850512463,-0.19153960634762437,-0.2541869093583166,-0.1975326526779241,-0.3322785269989761,-0.33539153258226667,0.012134553645952666,0.1294231383388996,0.1757712237220893,-0.06815768430695983,0.04421142674779826,0.025186296082438962,0.19620673136399353,0.08188534302778525,0.056793570100533625,-0.002378370500955036,0.14931128978195343,0.18261227454418383,0.22867263326696932,0.09424835216070565,0.24616431742260148,0.23563849432897319,0.9538138286161867,0.051879447233981704,0.13242305888304381,-0.0006284235012247273,-0.06775325446850179,-0.18919357141592805,0.1747087766576255,-0.20480645876579176,0.05661067889968358,0.5698914111082438,-0.22884451881337384,-0.20152702383851004],\"y\":[0.06101116428678181,0.04656882633145015,0.07418437627981486,0.02787337679944026,0.09249085900720859,0.10981662345889945,0.16366086395081475,0.09315572046040305,0.05158444629032821,-0.08273729329864592,-0.04301926376447105,-0.08375864728197137,-0.08744858912677964,-0.059183598423782784,-0.06916545497285712,0.03630990990076276,-0.12315765291753626,-0.11097981147601989,-0.03404978588028132,0.007616237729073156,-0.01654352107503549,-0.06544429351174177,0.026982835760114576,-0.021555676747309693,-0.05945923245057815,-0.04278916890112979,0.06900677294714946,0.04653956492572702,0.0015806504746922513,0.09563963511209378,-0.05932642332472024,0.004341723383892934,0.27171111773389606,-0.6114375617792255,-0.016370269302177717,0.0024904654268478247,-0.0008109544425101406,-0.011668454327964635,0.1529063074276447,0.008752824034666826,0.07816308139372305,0.0948429086347548,0.0880450893305106,-0.03663586044202509,-0.12971277724565466,-0.05145147925823358,-0.0069628615309263,-0.16001744789620262,-0.1896012689624123,0.08538286917140467,0.05010863177793755,0.12218691960813814,-0.0004033073695314405,-0.005099231459454151,0.09039905759682496,0.05888812861002865,0.02650846096057247,-0.04521154438985792,0.03113548270520705,0.13851730975881277,0.115732396295012,-0.01132199603731942,0.09014754055602113,0.2993700322554655,-0.16368172643975382,0.11015271087178072,0.18165076577892478,0.18194555469140775,-0.1663349616434126,0.06091953783188779,-0.09952488144527642,0.2809345958645145,-0.865359405161045,-0.06409970833933581,-0.03493126478945235]},\"selected\":{\"id\":\"1100\"},\"selection_policy\":{\"id\":\"1099\"}},\"id\":\"1081\",\"type\":\"ColumnDataSource\"},{\"attributes\":{\"callback\":null,\"tooltips\":[[\"Label\",\"@index\"]]},\"id\":\"1026\",\"type\":\"HoverTool\"},{\"attributes\":{\"coordinates\":null,\"group\":null,\"text\":\"English Department Research Foci\"},\"id\":\"1006\",\"type\":\"Title\"},{\"attributes\":{\"background_fill_alpha\":{\"value\":0.7},\"background_fill_color\":{\"value\":\"white\"},\"coordinates\":null,\"group\":null,\"source\":{\"id\":\"1081\"},\"text\":{\"field\":\"name\"},\"text_font_size\":{\"value\":\"10px\"},\"x\":{\"field\":\"x\"},\"y\":{\"field\":\"y\"}},\"id\":\"1082\",\"type\":\"LabelSet\"},{\"attributes\":{\"coordinates\":null,\"data_source\":{\"id\":\"1039\"},\"glyph\":{\"id\":\"1062\"},\"group\":null,\"hover_glyph\":{\"id\":\"1072\"},\"selection_glyph\":{\"id\":\"1067\"},\"view\":{\"id\":\"1041\"}},\"id\":\"1040\",\"type\":\"GlyphRenderer\"},{\"attributes\":{},\"id\":\"1022\",\"type\":\"PanTool\"},{\"attributes\":{\"data\":{\"end\":[\"English\",\"Literary and Cultural Studies\",\"Language and the Law\",\"Health\",\"Gender Studies\",\"Migration\",\"Literary and Cultural History\",\"Mobilities\",\"Empire\",\"International Law & Human Rights\",\"English\",\"Literary and Cultural Studies\",\"Digital Humanities\",\"Media\",\"Film\",\"Propaganda\",\"Literary and Cultural History\",\"English\",\"Literary and Cultural Studies\",\"Media\",\"Race\",\"Film\",\"Propaganda\",\"Literary and Cultural History\",\"Ralph Ellison\",\"English\",\"Literary and Cultural Studies\",\"Language and the Law\",\"Digital Humanities\",\"Media\",\"Networks\",\"Propaganda\",\"Print History\",\"Literary and Cultural History\",\"Large Scale Text Analysis\",\"Globalization\",\"Empire\",\"Data Privacy & Ethics\",\"Shakespeare\",\"International Law & Human Rights\",\"English\",\"Literary and Cultural Studies\",\"Translation\",\"Race\",\"Migration\",\"Literary and Cultural History\",\"History of Rhetoric\",\"Empire\",\"Jane Austen\",\"English\",\"Literary and Cultural Studies\",\"Film\",\"Literary and Cultural History\",\"English\",\"Literary and Cultural Studies\",\"Critical University Studies\",\"Literary and Cultural History\",\"George Orwell\",\"English\",\"Literary and Cultural Studies\",\"Digital Humanities\",\"Performance Studies\",\"Race\",\"Literary and Cultural History\",\"Empire\",\"Shakespeare\",\"Jane Austen\",\"English\",\"Literary and Cultural Studies\",\"Digital Humanities\",\"Media\",\"Performance Studies\",\"Film\",\"Print History\",\"Literary and Cultural History\",\"Large Scale Text Analysis\",\"Virtual Reality\",\"Shakespeare\",\"English\",\"Rhetoric\",\"Media\",\"Propaganda\",\"Style\",\"English\",\"Rhetoric\",\"History of Rhetoric\",\"English\",\"Rhetoric\",\"Digital Humanities\",\"Professional/Workplace Communication\",\"Writing and Statistics\",\"Literary and Cultural History\",\"Large Scale Text Analysis\",\"Style\",\"English\",\"Rhetoric\",\"Media\",\"Professional/Workplace Communication\",\"English\",\"Rhetoric\",\"Language and the Law\",\"English\",\"Rhetoric\",\"Digital Humanities\",\"English\",\"Rhetoric\",\"Health\",\"Translation\",\"Networks\",\"Migration\",\"History of Rhetoric\",\"Globalization\",\"International Law & Human Rights\",\"English\",\"Rhetoric\",\"Professional/Workplace Communication\",\"Style\",\"English\",\"Rhetoric\",\"Professional/Workplace Communication\",\"English\",\"Rhetoric\",\"Language and the Law\",\"Health\",\"Gender Studies\",\"English\",\"Rhetoric\",\"Language and the Law\",\"Migration\",\"History of Rhetoric\",\"English\",\"Creative Writing\",\"Fiction\",\"Drama\",\"Screenwriting\",\"Novel\",\"Short Stories\",\"English\",\"Creative Writing\",\"Memoir\",\"Non-Fiction\",\"Novel\",\"Short Stories\",\"English\",\"Creative Writing\",\"Poetry\",\"Short Stories\",\"English\",\"Creative Writing\",\"Fiction\",\"Novel\",\"Short Stories\",\"English\",\"Creative Writing\",\"Memoir\",\"Race\",\"Essay\",\"Non-Fiction\",\"Short Stories\",\"English\",\"Creative Writing\",\"Fiction\",\"Non-Fiction\",\"Novel\",\"Short Stories\",\"English\",\"Creative Writing\",\"Translation\",\"Poetry\",\"English\",\"Creative Writing\",\"Poetry\",\"Race\"],\"start\":[\"Marian Aguiar\",\"Marian Aguiar\",\"Marian Aguiar\",\"Marian Aguiar\",\"Marian Aguiar\",\"Marian Aguiar\",\"Marian Aguiar\",\"Marian Aguiar\",\"Marian Aguiar\",\"Marian Aguiar\",\"Kathleen Newman\",\"Kathleen Newman\",\"Kathleen Newman\",\"Kathleen Newman\",\"Kathleen Newman\",\"Kathleen Newman\",\"Kathleen Newman\",\"Richard Purcell\",\"Richard Purcell\",\"Richard Purcell\",\"Richard Purcell\",\"Richard Purcell\",\"Richard Purcell\",\"Richard Purcell\",\"Richard Purcell\",\"Christopher Warren\",\"Christopher Warren\",\"Christopher Warren\",\"Christopher Warren\",\"Christopher Warren\",\"Christopher Warren\",\"Christopher Warren\",\"Christopher Warren\",\"Christopher Warren\",\"Christopher Warren\",\"Christopher Warren\",\"Christopher Warren\",\"Christopher Warren\",\"Christopher Warren\",\"Christopher Warren\",\"Mariam Wassif\",\"Mariam Wassif\",\"Mariam Wassif\",\"Mariam Wassif\",\"Mariam Wassif\",\"Mariam Wassif\",\"Mariam Wassif\",\"Mariam Wassif\",\"Mariam Wassif\",\"David Shumway\",\"David Shumway\",\"David Shumway\",\"David Shumway\",\"Jeffrey Williams\",\"Jeffrey Williams\",\"Jeffrey Williams\",\"Jeffrey Williams\",\"Jeffrey Williams\",\"Sede Makonnen\",\"Sede Makonnen\",\"Sede Makonnen\",\"Sede Makonnen\",\"Sede Makonnen\",\"Sede Makonnen\",\"Sede Makonnen\",\"Sede Makonnen\",\"Sede Makonnen\",\"Stephen Wittek\",\"Stephen Wittek\",\"Stephen Wittek\",\"Stephen Wittek\",\"Stephen Wittek\",\"Stephen Wittek\",\"Stephen Wittek\",\"Stephen Wittek\",\"Stephen Wittek\",\"Stephen Wittek\",\"Stephen Wittek\",\"John Oddo\",\"John Oddo\",\"John Oddo\",\"John Oddo\",\"John Oddo\",\"James Wynn\",\"James Wynn\",\"James Wynn\",\"David Brown\",\"David Brown\",\"David Brown\",\"David Brown\",\"David Brown\",\"David Brown\",\"David Brown\",\"David Brown\",\"Necia Werner\",\"Necia Werner\",\"Necia Werner\",\"Necia Werner\",\"Linda Flower\",\"Linda Flower\",\"Linda Flower\",\"Suguru Ishizaki\",\"Suguru Ishizaki\",\"Suguru Ishizaki\",\"Andreea Deciu Ritivoi\",\"Andreea Deciu Ritivoi\",\"Andreea Deciu Ritivoi\",\"Andreea Deciu Ritivoi\",\"Andreea Deciu Ritivoi\",\"Andreea Deciu Ritivoi\",\"Andreea Deciu Ritivoi\",\"Andreea Deciu Ritivoi\",\"Andreea Deciu Ritivoi\",\"Danielle Wetzel\",\"Danielle Wetzel\",\"Danielle Wetzel\",\"Danielle Wetzel\",\"Joanna Wolfe\",\"Joanna Wolfe\",\"Joanna Wolfe\",\"Stephanie Larsen\",\"Stephanie Larsen\",\"Stephanie Larsen\",\"Stephanie Larsen\",\"Stephanie Larsen\",\"Doug Coulson\",\"Doug Coulson\",\"Doug Coulson\",\"Doug Coulson\",\"Doug Coulson\",\"Sharon Dilworth\",\"Sharon Dilworth\",\"Sharon Dilworth\",\"Sharon Dilworth\",\"Sharon Dilworth\",\"Sharon Dilworth\",\"Sharon Dilworth\",\"Jane Bernstein\",\"Jane Bernstein\",\"Jane Bernstein\",\"Jane Bernstein\",\"Jane Bernstein\",\"Jane Bernstein\",\"Gerald Costanzo\",\"Gerald Costanzo\",\"Gerald Costanzo\",\"Gerald Costanzo\",\"Jane McCafferty\",\"Jane McCafferty\",\"Jane McCafferty\",\"Jane McCafferty\",\"Jane McCafferty\",\"Jason England\",\"Jason England\",\"Jason England\",\"Jason England\",\"Jason England\",\"Jason England\",\"Jason England\",\"Kevin Gonzalez\",\"Kevin Gonzalez\",\"Kevin Gonzalez\",\"Kevin Gonzalez\",\"Kevin Gonzalez\",\"Kevin Gonzalez\",\"Lauren Shapiro\",\"Lauren Shapiro\",\"Lauren Shapiro\",\"Lauren Shapiro\",\"Camille Rankine\",\"Camille Rankine\",\"Camille Rankine\",\"Camille Rankine\"]},\"selected\":{\"id\":\"1104\"},\"selection_policy\":{\"id\":\"1103\"}},\"id\":\"1039\",\"type\":\"ColumnDataSource\"},{\"attributes\":{},\"id\":\"1023\",\"type\":\"WheelZoomTool\"},{\"attributes\":{},\"id\":\"1010\",\"type\":\"LinearScale\"},{\"attributes\":{},\"id\":\"1024\",\"type\":\"SaveTool\"},{\"attributes\":{\"source\":{\"id\":\"1039\"}},\"id\":\"1041\",\"type\":\"CDSView\"},{\"attributes\":{},\"id\":\"1025\",\"type\":\"ResetTool\"},{\"attributes\":{\"fill_color\":{\"value\":\"#f0027f\"},\"line_width\":{\"value\":2}},\"id\":\"1052\",\"type\":\"Circle\"},{\"attributes\":{\"graph_layout\":{\"Andreea Deciu Ritivoi\":[0.08154901535415862,0.03630990990076276],\"Camille Rankine\":[-0.13123925084016608,0.04653956492572702],\"Christopher Warren\":[0.11900497512825577,0.02787337679944026],\"Creative Writing\":[-0.1784254965639558,0.004341723383892934],\"Critical University Studies\":[0.09418961008379136,0.27171111773389606],\"Danielle Wetzel\":[0.004220184209570499,-0.12315765291753626],\"Data Privacy & Ethics\":[0.24616431742260148,-0.01132199603731942],\"David Brown\":[0.06921539728133586,-0.08375864728197137],\"David Shumway\":[0.0011258002434980372,0.10981662345889945],\"Digital Humanities\":[0.07805720652771603,-0.0008109544425101406],\"Doug Coulson\":[0.05077735583903905,0.007616237729073156],\"Drama\":[-0.3322785269989761,-0.05145147925823358],\"Empire\":[0.09424835216070565,0.115732396295012],\"English\":[-0.023727549016832612,0.0015806504746922513],\"Essay\":[-0.18919357141592805,-0.1663349616434126],\"Fiction\":[-0.2541869093583166,-0.03663586044202509],\"Film\":[0.04421142674779826,0.12218691960813814],\"Gender Studies\":[0.20718292828347504,0.008752824034666826],\"George Orwell\":[0.05661067889968358,0.2809345958645145],\"Gerald Costanzo\":[-0.15401335921219272,0.026982835760114576],\"Globalization\":[0.18261227454418383,0.03113548270520705],\"Grammar\":[0.9538138286161867,0.2993700322554655],\"Health\":[0.16109440512359938,0.0024904654268478247],\"History\":[-1.0,0.07816308139372305],\"History of Rhetoric\":[-0.002378370500955036,0.02650846096057247],\"International Law & Human Rights\":[0.1747087766576255,0.06091953783188779],\"James Wynn\":[-0.039086035907935884,-0.04301926376447105],\"Jane Austen\":[-0.0006284235012247273,0.18165076577892478],\"Jane Bernstein\":[-0.159182873124459,-0.06544429351174177],\"Jane McCafferty\":[-0.16695353271485414,-0.021555676747309693],\"Jason England\":[-0.14063774224134706,-0.05945923245057815],\"Jeffrey Williams\":[0.04338462050733522,0.16366086395081475],\"Joanna Wolfe\":[-0.02932646876435348,-0.11097981147601989],\"John Oddo\":[0.01828666978160101,-0.08273729329864592],\"Kathleen Newman\":[0.029627727202291974,0.04656882633145015],\"Kevin Gonzalez\":[-0.17083980362933227,-0.04278916890112979],\"Language and the Law\":[0.12768928016643513,-0.016370269302177717],\"Large Scale Text Analysis\":[0.14931128978195343,-0.04521154438985792],\"Lauren Shapiro\":[-0.12351758375999476,0.06900677294714946],\"Linda Flower\":[0.06835144968360646,-0.059183598423782784],\"Literary and Cultural History\":[0.056793570100533625,0.05888812861002865],\"Literary and Cultural Studies\":[0.06170384751943284,0.09563963511209378],\"Mariam Wassif\":[0.007060122543712046,0.09249085900720859],\"Marian Aguiar\":[0.1256508939685599,0.06101116428678181],\"Media\":[0.044472903530289175,-0.011668454327964635],\"Memoir\":[-0.1975326526779241,-0.12971277724565466],\"Migration\":[0.08188534302778525,0.09039905759682496],\"Mobilities\":[0.22867263326696932,0.13851730975881277],\"Necia Werner\":[-0.00765726428604644,-0.08744858912677964],\"Networks\":[0.1757712237220893,0.08538286917140467],\"Non-Fiction\":[-0.20480645876579176,-0.09952488144527642],\"Novel\":[-0.22884451881337384,-0.06409970833933581],\"Performance Studies\":[0.11897124069032135,0.1529063074276447],\"Poetry\":[-0.19153960634762437,0.0880450893305106],\"Power\":[-0.7653128106313516,-0.6114375617792255],\"Print History\":[0.19620673136399353,-0.005099231459454151],\"Professional/Workplace Communication\":[0.012134553645952666,-0.16001744789620262],\"Propaganda\":[0.025186296082438962,-0.0004033073695314405],\"Race\":[-0.06815768430695983,0.05010863177793755],\"Ralph Ellison\":[-0.06775325446850179,0.18194555469140775],\"Rhetoric\":[0.029741642836142397,-0.05932642332472024],\"Richard Purcell\":[-0.008107719886563022,0.07418437627981486],\"Screenwriting\":[-0.33539153258226667,-0.0069628615309263],\"Sede Makonnen\":[0.03823240683687622,0.09315572046040305],\"Shakespeare\":[0.13242305888304381,0.11015271087178072],\"Sharon Dilworth\":[-0.22266835646322206,-0.01654352107503549],\"Short Stories\":[-0.20152702383851004,-0.03493126478945235],\"Stephanie Larsen\":[0.10499825100612464,-0.03404978588028132],\"Stephen Wittek\":[0.10982177862867314,0.05158444629032821],\"Style\":[0.051879447233981704,-0.16368172643975382],\"Suguru Ishizaki\":[0.042085150214599014,-0.06916545497285712],\"Toni Morrison\":[0.5698914111082438,-0.865359405161045],\"Translation\":[-0.03916732850512463,0.0948429086347548],\"Virtual Reality\":[0.23563849432897319,0.09014754055602113],\"Writing and Statistics\":[0.1294231383388996,-0.1896012689624123]}},\"id\":\"1046\",\"type\":\"StaticLayoutProvider\"},{\"attributes\":{},\"id\":\"1012\",\"type\":\"LinearScale\"},{\"attributes\":{},\"id\":\"1098\",\"type\":\"AllLabels\"},{\"attributes\":{\"data\":{\"adjusted_node_size\":[15,12,13,20,14,9,10,14,16,10,8,13,9,8,8,14,9,8,10,10,12,11,9,10,12,11,9,9,33,14,16,13,6,5,10,8,11,11,7,7,5,8,8,8,7,6,6,9,6,7,10,9,9,7,9,15,9,8,7,6,9,6,6,5,8,8,7,6,6,8,8,6,5,9,11],\"bipartite\":[1,1,1,1,1,1,1,1,1,1,1,1,1,1,1,1,1,1,1,1,1,1,1,1,1,1,1,1,0,0,0,0,0,0,0,0,0,0,0,0,0,0,0,0,0,0,0,0,0,0,0,0,0,0,0,0,0,0,0,0,0,0,0,0,0,0,0,0,0,0,0,0,0,0,0],\"color\":[\"#7fc97f\",\"#7fc97f\",\"#7fc97f\",\"#7fc97f\",\"#7fc97f\",\"#7fc97f\",\"#7fc97f\",\"#7fc97f\",\"#7fc97f\",\"#7fc97f\",\"#7fc97f\",\"#7fc97f\",\"#7fc97f\",\"#7fc97f\",\"#7fc97f\",\"#7fc97f\",\"#7fc97f\",\"#7fc97f\",\"#7fc97f\",\"#7fc97f\",\"#7fc97f\",\"#7fc97f\",\"#7fc97f\",\"#7fc97f\",\"#7fc97f\",\"#7fc97f\",\"#7fc97f\",\"#7fc97f\",\"#beaed4\",\"#beaed4\",\"#beaed4\",\"#beaed4\",\"#beaed4\",\"#beaed4\",\"#beaed4\",\"#beaed4\",\"#beaed4\",\"#beaed4\",\"#beaed4\",\"#beaed4\",\"#beaed4\",\"#beaed4\",\"#beaed4\",\"#beaed4\",\"#beaed4\",\"#beaed4\",\"#beaed4\",\"#beaed4\",\"#beaed4\",\"#beaed4\",\"#beaed4\",\"#beaed4\",\"#beaed4\",\"#beaed4\",\"#beaed4\",\"#beaed4\",\"#beaed4\",\"#beaed4\",\"#beaed4\",\"#beaed4\",\"#beaed4\",\"#beaed4\",\"#beaed4\",\"#beaed4\",\"#beaed4\",\"#beaed4\",\"#beaed4\",\"#beaed4\",\"#beaed4\",\"#beaed4\",\"#beaed4\",\"#beaed4\",\"#beaed4\",\"#beaed4\",\"#beaed4\"],\"degree\":[20,14,16,30,18,8,10,18,22,10,6,16,8,6,6,18,8,6,10,10,14,12,8,10,14,12,8,8,56,18,22,16,2,0,10,6,12,12,4,4,0,6,6,6,4,2,2,8,2,4,10,8,8,4,8,20,8,6,4,2,8,2,2,0,6,6,4,2,2,6,6,2,0,8,12],\"index\":[\"Marian Aguiar\",\"Kathleen Newman\",\"Richard Purcell\",\"Christopher Warren\",\"Mariam Wassif\",\"David Shumway\",\"Jeffrey Williams\",\"Sede Makonnen\",\"Stephen Wittek\",\"John Oddo\",\"James Wynn\",\"David Brown\",\"Necia Werner\",\"Linda Flower\",\"Suguru Ishizaki\",\"Andreea Deciu Ritivoi\",\"Danielle Wetzel\",\"Joanna Wolfe\",\"Stephanie Larsen\",\"Doug Coulson\",\"Sharon Dilworth\",\"Jane Bernstein\",\"Gerald Costanzo\",\"Jane McCafferty\",\"Jason England\",\"Kevin Gonzalez\",\"Lauren Shapiro\",\"Camille Rankine\",\"English\",\"Literary and Cultural Studies\",\"Rhetoric\",\"Creative Writing\",\"Critical University Studies\",\"Power\",\"Language and the Law\",\"Health\",\"Digital Humanities\",\"Media\",\"Performance Studies\",\"Gender Studies\",\"History\",\"Translation\",\"Poetry\",\"Fiction\",\"Memoir\",\"Drama\",\"Screenwriting\",\"Professional/Workplace Communication\",\"Writing and Statistics\",\"Networks\",\"Race\",\"Film\",\"Propaganda\",\"Print History\",\"Migration\",\"Literary and Cultural History\",\"History of Rhetoric\",\"Large Scale Text Analysis\",\"Globalization\",\"Mobilities\",\"Empire\",\"Data Privacy & Ethics\",\"Virtual Reality\",\"Grammar\",\"Style\",\"Shakespeare\",\"Jane Austen\",\"Ralph Ellison\",\"Essay\",\"International Law & Human Rights\",\"Non-Fiction\",\"George Orwell\",\"Toni Morrison\",\"Novel\",\"Short Stories\"],\"label\":[\"Marian Aguiar\",\"Kathleen Newman\",\"Richard Purcell\",\"Christopher Warren\",\"Mariam Wassif\",\"David Shumway\",\"Jeffrey Williams\",\"Sede Makonnen\",\"Stephen Wittek\",\"John Oddo\",\"James Wynn\",\"David Brown\",\"Necia Werner\",\"Linda Flower\",\"Suguru Ishizaki\",\"Andreea Deciu Ritivoi\",\"Danielle Wetzel\",\"Joanna Wolfe\",\"Stephanie Larsen\",\"Doug Coulson\",\"Sharon Dilworth\",\"Jane Bernstein\",\"Gerald Costanzo\",\"Jane McCafferty\",\"Jason England\",\"Kevin Gonzalez\",\"Lauren Shapiro\",\"Camille Rankine\",\"English\",\"Literary and Cultural Studies\",\"Rhetoric\",\"Creative Writing\",\"Critical University Studies\",\"Power\",\"Language and the Law\",\"Health\",\"Digital Humanities\",\"Media\",\"Performance Studies\",\"Gender Studies\",\"History\",\"Translation\",\"Poetry\",\"Fiction\",\"Memoir\",\"Drama\",\"Screenwriting\",\"Professional/Workplace Communication\",\"Writing and Statistics\",\"Networks\",\"Race\",\"Film\",\"Propaganda\",\"Print History\",\"Migration\",\"Literary and Cultural History\",\"History of Rhetoric\",\"Large Scale Text Analysis\",\"Globalization\",\"Mobilities\",\"Empire\",\"Data Privacy & Ethics\",\"Virtual Reality\",\"Grammar\",\"Style\",\"Shakespeare\",\"Jane Austen\",\"Ralph Ellison\",\"Essay\",\"International Law & Human Rights\",\"Non-Fiction\",\"George Orwell\",\"Toni Morrison\",\"Novel\",\"Short Stories\"]},\"selected\":{\"id\":\"1102\"},\"selection_policy\":{\"id\":\"1101\"}},\"id\":\"1035\",\"type\":\"ColumnDataSource\"},{\"attributes\":{},\"id\":\"1097\",\"type\":\"BasicTickFormatter\"},{\"attributes\":{},\"id\":\"1101\",\"type\":\"UnionRenderers\"},{\"attributes\":{\"coordinates\":null,\"edge_renderer\":{\"id\":\"1040\"},\"group\":null,\"inspection_policy\":{\"id\":\"1079\"},\"layout_provider\":{\"id\":\"1046\"},\"node_renderer\":{\"id\":\"1036\"},\"selection_policy\":{\"id\":\"1077\"}},\"id\":\"1033\",\"type\":\"GraphRenderer\"},{\"attributes\":{\"fill_color\":{\"value\":\"#f0027f\"},\"line_width\":{\"value\":2}},\"id\":\"1057\",\"type\":\"Circle\"},{\"attributes\":{\"active_scroll\":{\"id\":\"1023\"},\"tools\":[{\"id\":\"1022\"},{\"id\":\"1023\"},{\"id\":\"1024\"},{\"id\":\"1025\"},{\"id\":\"1026\"}]},\"id\":\"1027\",\"type\":\"Toolbar\"}],\"root_ids\":[\"1005\"]},\"title\":\"Bokeh Application\",\"version\":\"2.4.3\"}};\n",
       "  const render_items = [{\"docid\":\"a15d9bc5-ce38-461f-8ca7-192a4b0d3281\",\"root_ids\":[\"1005\"],\"roots\":{\"1005\":\"22c36d47-403d-42ab-bf90-b2003bd5faea\"}}];\n",
       "  root.Bokeh.embed.embed_items_notebook(docs_json, render_items);\n",
       "  }\n",
       "  if (root.Bokeh !== undefined) {\n",
       "    embed_document(root);\n",
       "  } else {\n",
       "    let attempts = 0;\n",
       "    const timer = setInterval(function(root) {\n",
       "      if (root.Bokeh !== undefined) {\n",
       "        clearInterval(timer);\n",
       "        embed_document(root);\n",
       "      } else {\n",
       "        attempts++;\n",
       "        if (attempts > 100) {\n",
       "          clearInterval(timer);\n",
       "          console.log(\"Bokeh: ERROR: Unable to run BokehJS code because BokehJS library is missing\");\n",
       "        }\n",
       "      }\n",
       "    }, 10, root)\n",
       "  }\n",
       "})(window);"
      ],
      "application/vnd.bokehjs_exec.v0+json": ""
     },
     "metadata": {
      "application/vnd.bokehjs_exec.v0+json": {
       "id": "1005"
      }
     },
     "output_type": "display_data"
    },
    {
     "name": "stderr",
     "output_type": "stream",
     "text": [
      "/Users/user/opt/anaconda3/lib/python3.7/site-packages/bokeh/io/saving.py:142: UserWarning:\n",
      "\n",
      "save() called but no resources were supplied and output_file(...) was never called, defaulting to resources.CDN\n",
      "\n",
      "/Users/user/opt/anaconda3/lib/python3.7/site-packages/bokeh/io/saving.py:154: UserWarning:\n",
      "\n",
      "save() called but no title was supplied and output_file(...) was never called, using default title 'Bokeh Plot'\n",
      "\n"
     ]
    },
    {
     "data": {
      "text/plain": [
       "'/Users/user/Library/CloudStorage/Box-Box/Teaching (CMU)/Admin/English Research Tree/English Department Research Foci.html'"
      ]
     },
     "execution_count": 8,
     "metadata": {},
     "output_type": "execute_result"
    }
   ],
   "source": [
    "#Choose a title!\n",
    "title = 'English Department Research Foci'\n",
    "\n",
    "#pos = nx.nx_agraph.graphviz_layout(B, prog=\"twopi\", root=0)\n",
    "pos= nx.spring_layout(B)\n",
    "#pos= nx.circular_layout(B)\n",
    "\n",
    "node_highlight_color = Accent[7][5]\n",
    "edge_highlight_color = Accent[7][5]\n",
    "\n",
    "#Establish which categories will appear when hovering over each node\n",
    "HOVER_TOOLTIPS = [(\"Label\", \"@index\"),  ]\n",
    "\n",
    "#Create a plot — set dimensions, toolbar, and title\n",
    "plot = figure(tooltips = HOVER_TOOLTIPS,\n",
    "              tools=\"pan,wheel_zoom,save,reset\", active_scroll='wheel_zoom',\n",
    "            x_range=Range1d(-.3, .3), y_range=Range1d(-.3,.3), title=title, plot_width=1000)\n",
    "\n",
    "#Create a network graph object with spring layout\n",
    "# https://networkx.github.io/documentation/networkx-1.9/reference/generated/networkx.drawing.layout.spring_layout.html\n",
    "#network_graph = from_networkx(B, nx.multipartite_layout(B, subset_key='bipartite'), scale=10, center=(0, 0))\n",
    "network_graph = from_networkx(B, pos, scale=10, center=(0, 0))\n",
    "\n",
    "\n",
    "#Set node size and color\n",
    "network_graph.node_renderer.glyph = Circle(size='adjusted_node_size', fill_color='color')\n",
    "\n",
    "#Set node highlight colors\n",
    "network_graph.node_renderer.hover_glyph = Circle(fill_color=node_highlight_color, line_width=2)\n",
    "network_graph.node_renderer.selection_glyph = Circle(fill_color=node_highlight_color, line_width=2)\n",
    "\n",
    "\n",
    "#Set edge opacity and width\n",
    "network_graph.edge_renderer.glyph = MultiLine(line_color='white', line_alpha=0.5, line_width=1)\n",
    "network_graph.edge_renderer.selection_glyph = MultiLine(line_color=edge_highlight_color, line_width=4)\n",
    "network_graph.edge_renderer.hover_glyph = MultiLine(line_color=edge_highlight_color, line_width=4)\n",
    "\n",
    "\n",
    "#Add network graph to the plot\n",
    "plot.renderers.append(network_graph)\n",
    "\n",
    "    #Highlight nodes and edges\n",
    "network_graph.selection_policy = NodesAndLinkedEdges()\n",
    "#network_graph.selection_policy = EdgesAndLinkedNodes()\n",
    "network_graph.inspection_policy = NodesAndLinkedEdges()\n",
    "\n",
    "#Add Labels\n",
    "x, y = zip(*network_graph.layout_provider.graph_layout.values())\n",
    "node_labels = list(B.nodes())\n",
    "source = ColumnDataSource({'x': x, 'y': y, 'name': [node_labels[i] for i in range(len(x))]})\n",
    "labels = LabelSet(x='x', y='y', text='name', source=source, background_fill_color='white', text_font_size='10px', background_fill_alpha=.7)\n",
    "plot.renderers.append(labels)\n",
    "\n",
    "show(plot)\n",
    "save(plot, filename=f\"{title}.html\")"
   ]
  },
  {
   "cell_type": "code",
   "execution_count": null,
   "id": "96eef51e",
   "metadata": {},
   "outputs": [],
   "source": []
  }
 ],
 "metadata": {
  "hide_input": false,
  "kernelspec": {
   "display_name": "Python 3 (ipykernel)",
   "language": "python",
   "name": "python3"
  },
  "language_info": {
   "codemirror_mode": {
    "name": "ipython",
    "version": 3
   },
   "file_extension": ".py",
   "mimetype": "text/x-python",
   "name": "python",
   "nbconvert_exporter": "python",
   "pygments_lexer": "ipython3",
   "version": "3.7.4"
  },
  "toc": {
   "base_numbering": 1,
   "nav_menu": {},
   "number_sections": true,
   "sideBar": true,
   "skip_h1_title": false,
   "title_cell": "Table of Contents",
   "title_sidebar": "Contents",
   "toc_cell": false,
   "toc_position": {},
   "toc_section_display": true,
   "toc_window_display": false
  }
 },
 "nbformat": 4,
 "nbformat_minor": 5
}
